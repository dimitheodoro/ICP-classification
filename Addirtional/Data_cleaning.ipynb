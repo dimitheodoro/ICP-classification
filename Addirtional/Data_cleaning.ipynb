{
 "cells": [
  {
   "cell_type": "markdown",
   "metadata": {},
   "source": [
    "Create the function"
   ]
  },
  {
   "cell_type": "code",
   "execution_count": 4,
   "metadata": {},
   "outputs": [],
   "source": [
    "import pydicom as dcm \n",
    "import os \n",
    "import shutil\n",
    "from tqdm import tqdm\n",
    "import numpy as np \n",
    "\n",
    "PATH_DESKTOP = r'C:\\Users\\user1\\Desktop\\MORE_OR_EQ_'\n",
    "\n",
    "all_series =[]\n",
    "def copy_patients_folder(PATH):\n",
    "    name = PATH.split(\" \\ \")[0].split('\\\\')[-1].split(\"-\")[1]\n",
    "    if PATH.split(\" \\ \")[0].split('\\\\')[-1].split(\"-\")[-1]=='WHOLE':\n",
    "        for folder1 in os.listdir(PATH):\n",
    "            for folder2 in os.listdir(os.path.join(PATH,folder1)):\n",
    "                for i,folder in enumerate(os.listdir(os.path.join(PATH,folder1,folder2))):\n",
    "                    for image in os.listdir(os.path.join(PATH,folder1,folder2,folder)):\n",
    "                        data = dcm.read_file(os.path.join(PATH,folder1,folder2,folder,image))\n",
    "                        Series_Description = data[('0008','103e')].value\n",
    "                        # print(i,folder,Series_Description)\n",
    "                        if Series_Description=='Brain 1.25 mm':\n",
    "                            if not os.path.exists(os.path.join(PATH_DESKTOP,\"{}-{}\".format(name,Series_Description))):\n",
    "                                os.mkdir(os.path.join(PATH_DESKTOP,\"{}-{}\".format(name,Series_Description)))\n",
    "                            shutil.copy( os.path.join(PATH,folder1,folder2,folder,image) ,os.path.join(PATH_DESKTOP,\"{}-{}\".format(name,Series_Description),image))                           \n",
    "                            # if not os.path.exists(os.path.join(PATH_DESKTOP,name)):\n",
    "                            #     os.mkdir(os.path.join(PATH_DESKTOP,name))\n",
    "                            # shutil.copy( os.path.join(PATH,folder1,folder2,folder,image) ,os.path.join(PATH_DESKTOP,name,image))\n",
    "                        elif Series_Description=='Brain 1.25 mm SOFT':\n",
    "                            if not os.path.exists(os.path.join(PATH_DESKTOP,\"{}-{}\".format(name,Series_Description))):\n",
    "                                os.mkdir(os.path.join(PATH_DESKTOP,\"{}-{}\".format(name,Series_Description)))\n",
    "                            shutil.copy( os.path.join(PATH,folder1,folder2,folder,image) ,os.path.join(PATH_DESKTOP,\"{}-{}\".format(name,Series_Description),image))\n",
    "                        elif Series_Description=='head':\n",
    "                            if not os.path.exists(os.path.join(PATH_DESKTOP,\"{}-{}\".format(name,Series_Description))):\n",
    "                                os.mkdir(os.path.join(PATH_DESKTOP,\"{}-{}\".format(name,Series_Description)))\n",
    "                            shutil.copy( os.path.join(PATH,folder1,folder2,folder,image) ,os.path.join(PATH_DESKTOP,\"{}-{}\".format(name,Series_Description),image))\n",
    "                        elif Series_Description=='Neck  1.0  B20s':\n",
    "                            if not os.path.exists(os.path.join(PATH_DESKTOP,\"{}-{}\".format(name,Series_Description))):\n",
    "                                os.mkdir(os.path.join(PATH_DESKTOP,\"{}-{}\".format(name,Series_Description)))\n",
    "                            shutil.copy( os.path.join(PATH,folder1,folder2,folder,image) ,os.path.join(PATH_DESKTOP,\"{}-{}\".format(name,Series_Description),image))\n",
    "                        elif Series_Description=='ThinSliceSpi  4.0  H31s':\n",
    "                            if not os.path.exists(os.path.join(PATH_DESKTOP,\"{}-{}\".format(name,Series_Description))):\n",
    "                                os.mkdir(os.path.join(PATH_DESKTOP,\"{}-{}\".format(name,Series_Description)))\n",
    "                            shutil.copy( os.path.join(PATH,folder1,folder2,folder,image) ,os.path.join(PATH_DESKTOP,\"{}-{}\".format(name,Series_Description),image))\n",
    "        \n",
    "    elif  PATH.split(\" \\ \")[0].split('\\\\')[-1].split(\"-\")[-1]!='WHOLE':\n",
    "        os.mkdir(os.path.join(PATH_DESKTOP,name))\n",
    "        for folder in os.listdir(PATH):\n",
    "            for image in os.listdir(os.path.join(PATH,folder)):\n",
    "                shutil.copy( os.path.join(PATH,folder,image) ,os.path.join(PATH_DESKTOP,name,image))\n"
   ]
  },
  {
   "cell_type": "markdown",
   "metadata": {},
   "source": [
    "apply the function"
   ]
  },
  {
   "cell_type": "markdown",
   "metadata": {},
   "source": [
    "E:\\PAGNI_CT_DEDOMENA\\PAGNH-CT-AI\\MORE-OR-EQUAL-15"
   ]
  },
  {
   "cell_type": "code",
   "execution_count": 3,
   "metadata": {},
   "outputs": [
    {
     "name": "stderr",
     "output_type": "stream",
     "text": [
      "  0%|          | 0/87 [00:00<?, ?it/s]"
     ]
    },
    {
     "name": "stderr",
     "output_type": "stream",
     "text": [
      "100%|██████████| 87/87 [05:43<00:00,  3.95s/it]\n"
     ]
    }
   ],
   "source": [
    "\n",
    "MORE_OR_EQ_PATH = r'E:\\PAGNI_CT_DEDOMENA\\PAGNH-CT-AI\\MORE-OR-EQUAL-15' \n",
    "PATH_DESKTOP = r'C:\\Users\\user1\\Desktop\\MORE_OR_EQ_'\n",
    "\n",
    "PORTION=-1\n",
    "if not os.path.exists(PATH_DESKTOP):\n",
    "    os.mkdir(PATH_DESKTOP)\n",
    "\n",
    "for patient in tqdm(os.listdir(MORE_OR_EQ_PATH)[:PORTION]):\n",
    "    copy_patients_folder(os.path.join(MORE_OR_EQ_PATH,patient))\n",
    "\n"
   ]
  },
  {
   "cell_type": "markdown",
   "metadata": {},
   "source": [
    "examine which patients dont exist in the generates folder"
   ]
  },
  {
   "cell_type": "code",
   "execution_count": 1,
   "metadata": {},
   "outputs": [],
   "source": [
    "import os\n",
    "PORTION=-1\n",
    "\n",
    "    \n",
    "MORE_OR_EQ_PATH = r'E:\\PAGNI_CT_DEDOMENA\\PAGNH-CT-AI\\MORE-OR-EQUAL-15' \n",
    "PATH_DESKTOP = r'C:\\Users\\user1\\Desktop\\MORE_OR_EQ_'\n",
    "mised_patients = []\n",
    "for number,patient in zip([i.split(\" \\\\ \")[0].split('\\\\')[-1].split(\"-\")[0] for i in os.listdir(MORE_OR_EQ_PATH)[:PORTION]] ,\n",
    "                          [i.split(\" \\\\ \")[0].split('\\\\')[-1].split(\"-\")[1] for i in os.listdir(MORE_OR_EQ_PATH)[:PORTION]]):\n",
    "                                                 \n",
    "    if patient not in [i.split(\"-\")[0] for i in os.listdir(PATH_DESKTOP)]:\n",
    "        mised_patients.append(patient)\n",
    "        print (number,patient)\n",
    "        "
   ]
  },
  {
   "cell_type": "markdown",
   "metadata": {},
   "source": [
    "SEE which patients have over 160 slices"
   ]
  },
  {
   "cell_type": "code",
   "execution_count": 2,
   "metadata": {},
   "outputs": [
    {
     "name": "stdout",
     "output_type": "stream",
     "text": [
      "NIKHFOROY-Brain 1.25 mm 256\n",
      "SOLOMOS-Brain 1.25 mm 320\n",
      "VASSILEBA-Brain 1.25 mm 256\n"
     ]
    }
   ],
   "source": [
    "for patient in os.listdir(PATH_DESKTOP):\n",
    "    if patient.split('-')[-1]=='Brain 1.25 mm':\n",
    "        if len(os.listdir(os.path.join(PATH_DESKTOP,patient)))>160:\n",
    "            print(patient,len(os.listdir(os.path.join(PATH_DESKTOP,patient))))"
   ]
  },
  {
   "cell_type": "markdown",
   "metadata": {},
   "source": [
    "E:\\PAGNI_CT_DEDOMENA\\PAGNH-CT-AI\\UNDER-15\\WIDE RANGE"
   ]
  },
  {
   "cell_type": "code",
   "execution_count": 5,
   "metadata": {},
   "outputs": [
    {
     "name": "stderr",
     "output_type": "stream",
     "text": [
      "  0%|          | 0/39 [00:00<?, ?it/s]"
     ]
    },
    {
     "name": "stderr",
     "output_type": "stream",
     "text": [
      "100%|██████████| 39/39 [02:05<00:00,  3.23s/it]\n"
     ]
    }
   ],
   "source": [
    "import os\n",
    "PORTION=-1\n",
    "MORE_OR_EQ_PATH = r'E:\\PAGNI_CT_DEDOMENA\\PAGNH-CT-AI\\UNDER-15\\WIDE RANGE' \n",
    "PATH_DESKTOP = r'C:\\Users\\user1\\Desktop\\WIDE_RANGE'\n",
    "\n",
    "PORTION=-1\n",
    "if not os.path.exists(PATH_DESKTOP):\n",
    "    os.mkdir(PATH_DESKTOP)\n",
    "\n",
    "for patient in tqdm(os.listdir(MORE_OR_EQ_PATH)[:PORTION]):\n",
    "    copy_patients_folder(os.path.join(MORE_OR_EQ_PATH,patient))\n"
   ]
  }
 ],
 "metadata": {
  "kernelspec": {
   "display_name": "pagni_prep_env",
   "language": "python",
   "name": "python3"
  },
  "language_info": {
   "codemirror_mode": {
    "name": "ipython",
    "version": 3
   },
   "file_extension": ".py",
   "mimetype": "text/x-python",
   "name": "python",
   "nbconvert_exporter": "python",
   "pygments_lexer": "ipython3",
   "version": "3.11.3"
  }
 },
 "nbformat": 4,
 "nbformat_minor": 2
}
